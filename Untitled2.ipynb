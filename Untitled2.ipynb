{
 "cells": [
  {
   "cell_type": "markdown",
   "id": "8d252406-f7db-45cc-bd45-d8970bc6efe6",
   "metadata": {},
   "source": [
    "## **Movie Recommander System**"
   ]
  },
  {
   "cell_type": "code",
   "execution_count": 1,
   "id": "bd245d1f-6ed2-4476-ad6d-280a26e72af4",
   "metadata": {},
   "outputs": [],
   "source": [
    "import numpy as np\n",
    "import pandas as pd\n",
    "import matplotlib.pyplot as plt\n",
    "import seaborn as sns"
   ]
  },
  {
   "cell_type": "code",
   "execution_count": 3,
   "id": "2351ed51-4b6a-40a8-9a39-1a92b36e9f75",
   "metadata": {},
   "outputs": [
    {
     "data": {
      "text/html": [
       "<div>\n",
       "<style scoped>\n",
       "    .dataframe tbody tr th:only-of-type {\n",
       "        vertical-align: middle;\n",
       "    }\n",
       "\n",
       "    .dataframe tbody tr th {\n",
       "        vertical-align: top;\n",
       "    }\n",
       "\n",
       "    .dataframe thead th {\n",
       "        text-align: right;\n",
       "    }\n",
       "</style>\n",
       "<table border=\"1\" class=\"dataframe\">\n",
       "  <thead>\n",
       "    <tr style=\"text-align: right;\">\n",
       "      <th></th>\n",
       "      <th>Poster</th>\n",
       "      <th>Title</th>\n",
       "      <th>Year</th>\n",
       "      <th>Certificate</th>\n",
       "      <th>Duration (min)</th>\n",
       "      <th>Genre</th>\n",
       "      <th>Rating</th>\n",
       "      <th>Metascore</th>\n",
       "      <th>Director</th>\n",
       "      <th>Cast</th>\n",
       "      <th>Votes</th>\n",
       "      <th>Description</th>\n",
       "      <th>Review Count</th>\n",
       "      <th>Review Title</th>\n",
       "      <th>Review</th>\n",
       "    </tr>\n",
       "  </thead>\n",
       "  <tbody>\n",
       "    <tr>\n",
       "      <th>0</th>\n",
       "      <td>https://m.media-amazon.com/images/M/MV5BYWRkZj...</td>\n",
       "      <td>The Idea of You</td>\n",
       "      <td>2023.0</td>\n",
       "      <td>R</td>\n",
       "      <td>115.0</td>\n",
       "      <td>Comedy, Drama, Romance</td>\n",
       "      <td>6.4</td>\n",
       "      <td>67.0</td>\n",
       "      <td>Michael Showalter</td>\n",
       "      <td>Anne Hathaway, Nicholas Galitzine, Ella Rubin,...</td>\n",
       "      <td>28,744</td>\n",
       "      <td>Solène, a 40-year-old single mom, begins an un...</td>\n",
       "      <td>166</td>\n",
       "      <td>Hypocrisy as an idea</td>\n",
       "      <td>This film, as well as the reaction to it, is a...</td>\n",
       "    </tr>\n",
       "    <tr>\n",
       "      <th>1</th>\n",
       "      <td>https://m.media-amazon.com/images/M/MV5BZGI4NT...</td>\n",
       "      <td>Kingdom of the Planet of the Apes</td>\n",
       "      <td>2023.0</td>\n",
       "      <td>PG-13</td>\n",
       "      <td>145.0</td>\n",
       "      <td>Action, Adventure, Sci-Fi</td>\n",
       "      <td>7.3</td>\n",
       "      <td>66.0</td>\n",
       "      <td>Wes Ball</td>\n",
       "      <td>Owen Teague, Freya Allan, Kevin Durand, Peter ...</td>\n",
       "      <td>22,248</td>\n",
       "      <td>Many years after the reign of Caesar, a young ...</td>\n",
       "      <td>183</td>\n",
       "      <td>A phenomenal start to another trilogy!</td>\n",
       "      <td>I'm a big fan of all the planet of the apes, a...</td>\n",
       "    </tr>\n",
       "    <tr>\n",
       "      <th>2</th>\n",
       "      <td>https://m.media-amazon.com/images/M/MV5BZjIyOT...</td>\n",
       "      <td>Unfrosted</td>\n",
       "      <td>2023.0</td>\n",
       "      <td>PG-13</td>\n",
       "      <td>97.0</td>\n",
       "      <td>Biography, Comedy, History</td>\n",
       "      <td>5.5</td>\n",
       "      <td>42.0</td>\n",
       "      <td>Jerry Seinfeld</td>\n",
       "      <td>Isaac Bae, Jerry Seinfeld, Chris Rickett, Rach...</td>\n",
       "      <td>18,401</td>\n",
       "      <td>In 1963 Michigan, business rivals Kellogg's an...</td>\n",
       "      <td>333</td>\n",
       "      <td>not funny</td>\n",
       "      <td>Pretty much the worst criticism you can lay on...</td>\n",
       "    </tr>\n",
       "    <tr>\n",
       "      <th>3</th>\n",
       "      <td>https://m.media-amazon.com/images/M/MV5BMjA5Zj...</td>\n",
       "      <td>The Fall Guy</td>\n",
       "      <td>2023.0</td>\n",
       "      <td>PG-13</td>\n",
       "      <td>126.0</td>\n",
       "      <td>Action, Comedy, Drama</td>\n",
       "      <td>7.3</td>\n",
       "      <td>73.0</td>\n",
       "      <td>David Leitch</td>\n",
       "      <td>Ryan Gosling, Emily Blunt, Aaron Taylor-Johnso...</td>\n",
       "      <td>38,953</td>\n",
       "      <td>A down-and-out stuntman must find the missing ...</td>\n",
       "      <td>384</td>\n",
       "      <td>Everything you needed and more!</td>\n",
       "      <td>Just got out of the Austin premier at SXSW and...</td>\n",
       "    </tr>\n",
       "    <tr>\n",
       "      <th>4</th>\n",
       "      <td>https://m.media-amazon.com/images/M/MV5BNTk1MT...</td>\n",
       "      <td>Challengers</td>\n",
       "      <td>2023.0</td>\n",
       "      <td>R</td>\n",
       "      <td>131.0</td>\n",
       "      <td>Drama, Romance, Sport</td>\n",
       "      <td>7.7</td>\n",
       "      <td>82.0</td>\n",
       "      <td>Luca Guadagnino</td>\n",
       "      <td>Zendaya, Mike Faist, Josh O'Connor, Darnell Ap...</td>\n",
       "      <td>32,517</td>\n",
       "      <td>Tashi, a former tennis prodigy turned coach, t...</td>\n",
       "      <td>194</td>\n",
       "      <td>Watch \"Match Point\" instead</td>\n",
       "      <td>This is a tough one. I liked the concept and t...</td>\n",
       "    </tr>\n",
       "  </tbody>\n",
       "</table>\n",
       "</div>"
      ],
      "text/plain": [
       "                                              Poster  \\\n",
       "0  https://m.media-amazon.com/images/M/MV5BYWRkZj...   \n",
       "1  https://m.media-amazon.com/images/M/MV5BZGI4NT...   \n",
       "2  https://m.media-amazon.com/images/M/MV5BZjIyOT...   \n",
       "3  https://m.media-amazon.com/images/M/MV5BMjA5Zj...   \n",
       "4  https://m.media-amazon.com/images/M/MV5BNTk1MT...   \n",
       "\n",
       "                               Title    Year Certificate  Duration (min)  \\\n",
       "0                    The Idea of You  2023.0           R           115.0   \n",
       "1  Kingdom of the Planet of the Apes  2023.0       PG-13           145.0   \n",
       "2                          Unfrosted  2023.0       PG-13            97.0   \n",
       "3                       The Fall Guy  2023.0       PG-13           126.0   \n",
       "4                        Challengers  2023.0           R           131.0   \n",
       "\n",
       "                        Genre  Rating  Metascore           Director  \\\n",
       "0      Comedy, Drama, Romance     6.4       67.0  Michael Showalter   \n",
       "1   Action, Adventure, Sci-Fi     7.3       66.0           Wes Ball   \n",
       "2  Biography, Comedy, History     5.5       42.0     Jerry Seinfeld   \n",
       "3       Action, Comedy, Drama     7.3       73.0       David Leitch   \n",
       "4       Drama, Romance, Sport     7.7       82.0    Luca Guadagnino   \n",
       "\n",
       "                                                Cast   Votes  \\\n",
       "0  Anne Hathaway, Nicholas Galitzine, Ella Rubin,...  28,744   \n",
       "1  Owen Teague, Freya Allan, Kevin Durand, Peter ...  22,248   \n",
       "2  Isaac Bae, Jerry Seinfeld, Chris Rickett, Rach...  18,401   \n",
       "3  Ryan Gosling, Emily Blunt, Aaron Taylor-Johnso...  38,953   \n",
       "4  Zendaya, Mike Faist, Josh O'Connor, Darnell Ap...  32,517   \n",
       "\n",
       "                                         Description Review Count  \\\n",
       "0  Solène, a 40-year-old single mom, begins an un...          166   \n",
       "1  Many years after the reign of Caesar, a young ...          183   \n",
       "2  In 1963 Michigan, business rivals Kellogg's an...          333   \n",
       "3  A down-and-out stuntman must find the missing ...          384   \n",
       "4  Tashi, a former tennis prodigy turned coach, t...          194   \n",
       "\n",
       "                             Review Title  \\\n",
       "0                    Hypocrisy as an idea   \n",
       "1  A phenomenal start to another trilogy!   \n",
       "2                               not funny   \n",
       "3         Everything you needed and more!   \n",
       "4             Watch \"Match Point\" instead   \n",
       "\n",
       "                                              Review  \n",
       "0  This film, as well as the reaction to it, is a...  \n",
       "1  I'm a big fan of all the planet of the apes, a...  \n",
       "2  Pretty much the worst criticism you can lay on...  \n",
       "3  Just got out of the Austin premier at SXSW and...  \n",
       "4  This is a tough one. I liked the concept and t...  "
      ]
     },
     "execution_count": 3,
     "metadata": {},
     "output_type": "execute_result"
    }
   ],
   "source": [
    "movie = pd.read_csv(\"imdb-movies-dataset.csv\")\n",
    "movie.head()"
   ]
  },
  {
   "cell_type": "markdown",
   "id": "0e9a7377-38e5-4d3a-a8c6-46aa5ffebdc0",
   "metadata": {},
   "source": [
    "## **Data preprocessing**"
   ]
  },
  {
   "cell_type": "code",
   "execution_count": 4,
   "id": "cd7da15a-fc73-408b-9342-94bf1b026fc6",
   "metadata": {},
   "outputs": [
    {
     "name": "stdout",
     "output_type": "stream",
     "text": [
      "<class 'pandas.core.frame.DataFrame'>\n",
      "RangeIndex: 10000 entries, 0 to 9999\n",
      "Data columns (total 15 columns):\n",
      " #   Column          Non-Null Count  Dtype  \n",
      "---  ------          --------------  -----  \n",
      " 0   Poster          10000 non-null  object \n",
      " 1   Title           10000 non-null  object \n",
      " 2   Year            9850 non-null   float64\n",
      " 3   Certificate     7370 non-null   object \n",
      " 4   Duration (min)  9664 non-null   float64\n",
      " 5   Genre           9993 non-null   object \n",
      " 6   Rating          9596 non-null   float64\n",
      " 7   Metascore       7555 non-null   float64\n",
      " 8   Director        9995 non-null   object \n",
      " 9   Cast            9961 non-null   object \n",
      " 10  Votes           9596 non-null   object \n",
      " 11  Description     10000 non-null  object \n",
      " 12  Review Count    9999 non-null   object \n",
      " 13  Review Title    9483 non-null   object \n",
      " 14  Review          9484 non-null   object \n",
      "dtypes: float64(4), object(11)\n",
      "memory usage: 1.1+ MB\n"
     ]
    }
   ],
   "source": [
    "movie.info()"
   ]
  },
  {
   "cell_type": "code",
   "execution_count": 5,
   "id": "e5482dbf-e7d4-4d34-9421-97d87ec46328",
   "metadata": {},
   "outputs": [],
   "source": [
    "movie_new = movie.drop(columns=[\"Certificate\",\"Metascore\",\"Review Count\"])"
   ]
  },
  {
   "cell_type": "code",
   "execution_count": 6,
   "id": "a9cb4deb-b8e9-476a-9785-5cb01bad4896",
   "metadata": {},
   "outputs": [
    {
     "name": "stdout",
     "output_type": "stream",
     "text": [
      "<class 'pandas.core.frame.DataFrame'>\n",
      "RangeIndex: 10000 entries, 0 to 9999\n",
      "Data columns (total 12 columns):\n",
      " #   Column          Non-Null Count  Dtype  \n",
      "---  ------          --------------  -----  \n",
      " 0   Poster          10000 non-null  object \n",
      " 1   Title           10000 non-null  object \n",
      " 2   Year            9850 non-null   float64\n",
      " 3   Duration (min)  9664 non-null   float64\n",
      " 4   Genre           9993 non-null   object \n",
      " 5   Rating          9596 non-null   float64\n",
      " 6   Director        9995 non-null   object \n",
      " 7   Cast            9961 non-null   object \n",
      " 8   Votes           9596 non-null   object \n",
      " 9   Description     10000 non-null  object \n",
      " 10  Review Title    9483 non-null   object \n",
      " 11  Review          9484 non-null   object \n",
      "dtypes: float64(3), object(9)\n",
      "memory usage: 937.6+ KB\n"
     ]
    }
   ],
   "source": [
    "movie_new.info()"
   ]
  },
  {
   "cell_type": "code",
   "execution_count": 7,
   "id": "fb271397-0026-445f-8830-61bf363db699",
   "metadata": {},
   "outputs": [],
   "source": [
    "movie_new.dropna(inplace=True)"
   ]
  },
  {
   "cell_type": "code",
   "execution_count": 8,
   "id": "739ee558-f183-45d4-8479-e04b1879b937",
   "metadata": {},
   "outputs": [
    {
     "name": "stdout",
     "output_type": "stream",
     "text": [
      "<class 'pandas.core.frame.DataFrame'>\n",
      "Index: 9336 entries, 0 to 9999\n",
      "Data columns (total 12 columns):\n",
      " #   Column          Non-Null Count  Dtype  \n",
      "---  ------          --------------  -----  \n",
      " 0   Poster          9336 non-null   object \n",
      " 1   Title           9336 non-null   object \n",
      " 2   Year            9336 non-null   float64\n",
      " 3   Duration (min)  9336 non-null   float64\n",
      " 4   Genre           9336 non-null   object \n",
      " 5   Rating          9336 non-null   float64\n",
      " 6   Director        9336 non-null   object \n",
      " 7   Cast            9336 non-null   object \n",
      " 8   Votes           9336 non-null   object \n",
      " 9   Description     9336 non-null   object \n",
      " 10  Review Title    9336 non-null   object \n",
      " 11  Review          9336 non-null   object \n",
      "dtypes: float64(3), object(9)\n",
      "memory usage: 948.2+ KB\n"
     ]
    }
   ],
   "source": [
    "movie_new.info()"
   ]
  },
  {
   "cell_type": "code",
   "execution_count": 9,
   "id": "fe8e7cd0",
   "metadata": {},
   "outputs": [
    {
     "name": "stdout",
     "output_type": "stream",
     "text": [
      "02:23:2\n"
     ]
    }
   ],
   "source": [
    "def convert_time(duration):\n",
    "    h = str(int(duration//60))\n",
    "    if len(str(h)) == 1:\n",
    "        h = \"0\"+str(h)\n",
    "    m = str(int(duration % 60))\n",
    "    if len(str(m)) == 1:\n",
    "        m = \"0\" + str(m)\n",
    "    s = str(duration).split(\".\")[-1]\n",
    "\n",
    "    return h+\":\"+m+\":\"+s\n",
    "\n",
    "\n",
    "print(convert_time(143.20))\n",
    "    "
   ]
  },
  {
   "cell_type": "code",
   "execution_count": 10,
   "id": "827c5305",
   "metadata": {},
   "outputs": [],
   "source": [
    "movie_new[\"Duration\"] = movie_new[\"Duration (min)\"].apply(convert_time)"
   ]
  },
  {
   "cell_type": "code",
   "execution_count": 11,
   "id": "7ea7cbd4-3ead-4f27-b36a-56d0e074281a",
   "metadata": {},
   "outputs": [
    {
     "data": {
      "text/plain": [
       "'2023'"
      ]
     },
     "execution_count": 11,
     "metadata": {},
     "output_type": "execute_result"
    }
   ],
   "source": [
    "def convert_year(data):\n",
    "    return str(data).split(\".\")[0]\n",
    "\n",
    "convert_year(2023.0)"
   ]
  },
  {
   "cell_type": "code",
   "execution_count": 12,
   "id": "b570be0f-1865-49ec-8959-d673255ec351",
   "metadata": {},
   "outputs": [],
   "source": [
    "movie_new[\"Year\"] = movie_new[\"Year\"].apply(convert_year)"
   ]
  },
  {
   "cell_type": "code",
   "execution_count": 13,
   "id": "8c3bb607-edec-4782-936e-8c2d9d24d479",
   "metadata": {},
   "outputs": [],
   "source": [
    "movie_new[\"info\"] = movie_new[\"Genre\"]+movie_new[\"Cast\"]+[\" \"]+ movie_new[\"Year\"].apply(str)+[\" \"]+[\" \"]+ movie_new[\"Rating\"].apply(str)+[\" \"]+movie_new[\"Director\"]+movie_new[\"Description\"]"
   ]
  },
  {
   "cell_type": "code",
   "execution_count": 14,
   "id": "19d32a28-8316-4d81-95b6-89623de1f87f",
   "metadata": {},
   "outputs": [
    {
     "data": {
      "text/html": [
       "<div>\n",
       "<style scoped>\n",
       "    .dataframe tbody tr th:only-of-type {\n",
       "        vertical-align: middle;\n",
       "    }\n",
       "\n",
       "    .dataframe tbody tr th {\n",
       "        vertical-align: top;\n",
       "    }\n",
       "\n",
       "    .dataframe thead th {\n",
       "        text-align: right;\n",
       "    }\n",
       "</style>\n",
       "<table border=\"1\" class=\"dataframe\">\n",
       "  <thead>\n",
       "    <tr style=\"text-align: right;\">\n",
       "      <th></th>\n",
       "      <th>Poster</th>\n",
       "      <th>Title</th>\n",
       "      <th>Year</th>\n",
       "      <th>Duration (min)</th>\n",
       "      <th>Genre</th>\n",
       "      <th>Rating</th>\n",
       "      <th>Director</th>\n",
       "      <th>Cast</th>\n",
       "      <th>Votes</th>\n",
       "      <th>Description</th>\n",
       "      <th>Review Title</th>\n",
       "      <th>Review</th>\n",
       "      <th>Duration</th>\n",
       "      <th>info</th>\n",
       "    </tr>\n",
       "  </thead>\n",
       "  <tbody>\n",
       "    <tr>\n",
       "      <th>0</th>\n",
       "      <td>https://m.media-amazon.com/images/M/MV5BYWRkZj...</td>\n",
       "      <td>The Idea of You</td>\n",
       "      <td>2023</td>\n",
       "      <td>115.0</td>\n",
       "      <td>Comedy, Drama, Romance</td>\n",
       "      <td>6.4</td>\n",
       "      <td>Michael Showalter</td>\n",
       "      <td>Anne Hathaway, Nicholas Galitzine, Ella Rubin,...</td>\n",
       "      <td>28,744</td>\n",
       "      <td>Solène, a 40-year-old single mom, begins an un...</td>\n",
       "      <td>Hypocrisy as an idea</td>\n",
       "      <td>This film, as well as the reaction to it, is a...</td>\n",
       "      <td>01:55:0</td>\n",
       "      <td>Comedy, Drama, RomanceAnne Hathaway, Nicholas ...</td>\n",
       "    </tr>\n",
       "    <tr>\n",
       "      <th>1</th>\n",
       "      <td>https://m.media-amazon.com/images/M/MV5BZGI4NT...</td>\n",
       "      <td>Kingdom of the Planet of the Apes</td>\n",
       "      <td>2023</td>\n",
       "      <td>145.0</td>\n",
       "      <td>Action, Adventure, Sci-Fi</td>\n",
       "      <td>7.3</td>\n",
       "      <td>Wes Ball</td>\n",
       "      <td>Owen Teague, Freya Allan, Kevin Durand, Peter ...</td>\n",
       "      <td>22,248</td>\n",
       "      <td>Many years after the reign of Caesar, a young ...</td>\n",
       "      <td>A phenomenal start to another trilogy!</td>\n",
       "      <td>I'm a big fan of all the planet of the apes, a...</td>\n",
       "      <td>02:25:0</td>\n",
       "      <td>Action, Adventure, Sci-FiOwen Teague, Freya Al...</td>\n",
       "    </tr>\n",
       "    <tr>\n",
       "      <th>2</th>\n",
       "      <td>https://m.media-amazon.com/images/M/MV5BZjIyOT...</td>\n",
       "      <td>Unfrosted</td>\n",
       "      <td>2023</td>\n",
       "      <td>97.0</td>\n",
       "      <td>Biography, Comedy, History</td>\n",
       "      <td>5.5</td>\n",
       "      <td>Jerry Seinfeld</td>\n",
       "      <td>Isaac Bae, Jerry Seinfeld, Chris Rickett, Rach...</td>\n",
       "      <td>18,401</td>\n",
       "      <td>In 1963 Michigan, business rivals Kellogg's an...</td>\n",
       "      <td>not funny</td>\n",
       "      <td>Pretty much the worst criticism you can lay on...</td>\n",
       "      <td>01:37:0</td>\n",
       "      <td>Biography, Comedy, HistoryIsaac Bae, Jerry Sei...</td>\n",
       "    </tr>\n",
       "    <tr>\n",
       "      <th>3</th>\n",
       "      <td>https://m.media-amazon.com/images/M/MV5BMjA5Zj...</td>\n",
       "      <td>The Fall Guy</td>\n",
       "      <td>2023</td>\n",
       "      <td>126.0</td>\n",
       "      <td>Action, Comedy, Drama</td>\n",
       "      <td>7.3</td>\n",
       "      <td>David Leitch</td>\n",
       "      <td>Ryan Gosling, Emily Blunt, Aaron Taylor-Johnso...</td>\n",
       "      <td>38,953</td>\n",
       "      <td>A down-and-out stuntman must find the missing ...</td>\n",
       "      <td>Everything you needed and more!</td>\n",
       "      <td>Just got out of the Austin premier at SXSW and...</td>\n",
       "      <td>02:06:0</td>\n",
       "      <td>Action, Comedy, DramaRyan Gosling, Emily Blunt...</td>\n",
       "    </tr>\n",
       "    <tr>\n",
       "      <th>4</th>\n",
       "      <td>https://m.media-amazon.com/images/M/MV5BNTk1MT...</td>\n",
       "      <td>Challengers</td>\n",
       "      <td>2023</td>\n",
       "      <td>131.0</td>\n",
       "      <td>Drama, Romance, Sport</td>\n",
       "      <td>7.7</td>\n",
       "      <td>Luca Guadagnino</td>\n",
       "      <td>Zendaya, Mike Faist, Josh O'Connor, Darnell Ap...</td>\n",
       "      <td>32,517</td>\n",
       "      <td>Tashi, a former tennis prodigy turned coach, t...</td>\n",
       "      <td>Watch \"Match Point\" instead</td>\n",
       "      <td>This is a tough one. I liked the concept and t...</td>\n",
       "      <td>02:11:0</td>\n",
       "      <td>Drama, Romance, SportZendaya, Mike Faist, Josh...</td>\n",
       "    </tr>\n",
       "  </tbody>\n",
       "</table>\n",
       "</div>"
      ],
      "text/plain": [
       "                                              Poster  \\\n",
       "0  https://m.media-amazon.com/images/M/MV5BYWRkZj...   \n",
       "1  https://m.media-amazon.com/images/M/MV5BZGI4NT...   \n",
       "2  https://m.media-amazon.com/images/M/MV5BZjIyOT...   \n",
       "3  https://m.media-amazon.com/images/M/MV5BMjA5Zj...   \n",
       "4  https://m.media-amazon.com/images/M/MV5BNTk1MT...   \n",
       "\n",
       "                               Title  Year  Duration (min)  \\\n",
       "0                    The Idea of You  2023           115.0   \n",
       "1  Kingdom of the Planet of the Apes  2023           145.0   \n",
       "2                          Unfrosted  2023            97.0   \n",
       "3                       The Fall Guy  2023           126.0   \n",
       "4                        Challengers  2023           131.0   \n",
       "\n",
       "                        Genre  Rating           Director  \\\n",
       "0      Comedy, Drama, Romance     6.4  Michael Showalter   \n",
       "1   Action, Adventure, Sci-Fi     7.3           Wes Ball   \n",
       "2  Biography, Comedy, History     5.5     Jerry Seinfeld   \n",
       "3       Action, Comedy, Drama     7.3       David Leitch   \n",
       "4       Drama, Romance, Sport     7.7    Luca Guadagnino   \n",
       "\n",
       "                                                Cast   Votes  \\\n",
       "0  Anne Hathaway, Nicholas Galitzine, Ella Rubin,...  28,744   \n",
       "1  Owen Teague, Freya Allan, Kevin Durand, Peter ...  22,248   \n",
       "2  Isaac Bae, Jerry Seinfeld, Chris Rickett, Rach...  18,401   \n",
       "3  Ryan Gosling, Emily Blunt, Aaron Taylor-Johnso...  38,953   \n",
       "4  Zendaya, Mike Faist, Josh O'Connor, Darnell Ap...  32,517   \n",
       "\n",
       "                                         Description  \\\n",
       "0  Solène, a 40-year-old single mom, begins an un...   \n",
       "1  Many years after the reign of Caesar, a young ...   \n",
       "2  In 1963 Michigan, business rivals Kellogg's an...   \n",
       "3  A down-and-out stuntman must find the missing ...   \n",
       "4  Tashi, a former tennis prodigy turned coach, t...   \n",
       "\n",
       "                             Review Title  \\\n",
       "0                    Hypocrisy as an idea   \n",
       "1  A phenomenal start to another trilogy!   \n",
       "2                               not funny   \n",
       "3         Everything you needed and more!   \n",
       "4             Watch \"Match Point\" instead   \n",
       "\n",
       "                                              Review Duration  \\\n",
       "0  This film, as well as the reaction to it, is a...  01:55:0   \n",
       "1  I'm a big fan of all the planet of the apes, a...  02:25:0   \n",
       "2  Pretty much the worst criticism you can lay on...  01:37:0   \n",
       "3  Just got out of the Austin premier at SXSW and...  02:06:0   \n",
       "4  This is a tough one. I liked the concept and t...  02:11:0   \n",
       "\n",
       "                                                info  \n",
       "0  Comedy, Drama, RomanceAnne Hathaway, Nicholas ...  \n",
       "1  Action, Adventure, Sci-FiOwen Teague, Freya Al...  \n",
       "2  Biography, Comedy, HistoryIsaac Bae, Jerry Sei...  \n",
       "3  Action, Comedy, DramaRyan Gosling, Emily Blunt...  \n",
       "4  Drama, Romance, SportZendaya, Mike Faist, Josh...  "
      ]
     },
     "execution_count": 14,
     "metadata": {},
     "output_type": "execute_result"
    }
   ],
   "source": [
    "movie_new.head()"
   ]
  },
  {
   "cell_type": "code",
   "execution_count": 15,
   "id": "6f1b356e-ef4d-43c4-bbdf-16f2258abfd7",
   "metadata": {},
   "outputs": [],
   "source": [
    "movie_new.drop(columns=[\"Cast\",\"Description\",\"Genre\",\"Director\",\"Review Title\",\"Review\",\"Duration (min)\"],inplace=True)"
   ]
  },
  {
   "cell_type": "code",
   "execution_count": 16,
   "id": "7b5bf28e-24f8-4e71-a0d7-ee02be8e2355",
   "metadata": {},
   "outputs": [
    {
     "data": {
      "text/html": [
       "<div>\n",
       "<style scoped>\n",
       "    .dataframe tbody tr th:only-of-type {\n",
       "        vertical-align: middle;\n",
       "    }\n",
       "\n",
       "    .dataframe tbody tr th {\n",
       "        vertical-align: top;\n",
       "    }\n",
       "\n",
       "    .dataframe thead th {\n",
       "        text-align: right;\n",
       "    }\n",
       "</style>\n",
       "<table border=\"1\" class=\"dataframe\">\n",
       "  <thead>\n",
       "    <tr style=\"text-align: right;\">\n",
       "      <th></th>\n",
       "      <th>Poster</th>\n",
       "      <th>Title</th>\n",
       "      <th>Year</th>\n",
       "      <th>Rating</th>\n",
       "      <th>Votes</th>\n",
       "      <th>Duration</th>\n",
       "      <th>info</th>\n",
       "    </tr>\n",
       "  </thead>\n",
       "  <tbody>\n",
       "    <tr>\n",
       "      <th>0</th>\n",
       "      <td>https://m.media-amazon.com/images/M/MV5BYWRkZj...</td>\n",
       "      <td>The Idea of You</td>\n",
       "      <td>2023</td>\n",
       "      <td>6.4</td>\n",
       "      <td>28,744</td>\n",
       "      <td>01:55:0</td>\n",
       "      <td>Comedy, Drama, RomanceAnne Hathaway, Nicholas ...</td>\n",
       "    </tr>\n",
       "    <tr>\n",
       "      <th>1</th>\n",
       "      <td>https://m.media-amazon.com/images/M/MV5BZGI4NT...</td>\n",
       "      <td>Kingdom of the Planet of the Apes</td>\n",
       "      <td>2023</td>\n",
       "      <td>7.3</td>\n",
       "      <td>22,248</td>\n",
       "      <td>02:25:0</td>\n",
       "      <td>Action, Adventure, Sci-FiOwen Teague, Freya Al...</td>\n",
       "    </tr>\n",
       "    <tr>\n",
       "      <th>2</th>\n",
       "      <td>https://m.media-amazon.com/images/M/MV5BZjIyOT...</td>\n",
       "      <td>Unfrosted</td>\n",
       "      <td>2023</td>\n",
       "      <td>5.5</td>\n",
       "      <td>18,401</td>\n",
       "      <td>01:37:0</td>\n",
       "      <td>Biography, Comedy, HistoryIsaac Bae, Jerry Sei...</td>\n",
       "    </tr>\n",
       "    <tr>\n",
       "      <th>3</th>\n",
       "      <td>https://m.media-amazon.com/images/M/MV5BMjA5Zj...</td>\n",
       "      <td>The Fall Guy</td>\n",
       "      <td>2023</td>\n",
       "      <td>7.3</td>\n",
       "      <td>38,953</td>\n",
       "      <td>02:06:0</td>\n",
       "      <td>Action, Comedy, DramaRyan Gosling, Emily Blunt...</td>\n",
       "    </tr>\n",
       "    <tr>\n",
       "      <th>4</th>\n",
       "      <td>https://m.media-amazon.com/images/M/MV5BNTk1MT...</td>\n",
       "      <td>Challengers</td>\n",
       "      <td>2023</td>\n",
       "      <td>7.7</td>\n",
       "      <td>32,517</td>\n",
       "      <td>02:11:0</td>\n",
       "      <td>Drama, Romance, SportZendaya, Mike Faist, Josh...</td>\n",
       "    </tr>\n",
       "    <tr>\n",
       "      <th>...</th>\n",
       "      <td>...</td>\n",
       "      <td>...</td>\n",
       "      <td>...</td>\n",
       "      <td>...</td>\n",
       "      <td>...</td>\n",
       "      <td>...</td>\n",
       "      <td>...</td>\n",
       "    </tr>\n",
       "    <tr>\n",
       "      <th>9995</th>\n",
       "      <td>https://m.media-amazon.com/images/M/MV5BMzg5MW...</td>\n",
       "      <td>The Greatest Show on Earth</td>\n",
       "      <td>2020</td>\n",
       "      <td>6.5</td>\n",
       "      <td>16,078</td>\n",
       "      <td>02:32:0</td>\n",
       "      <td>Drama, Family, RomanceJames Stewart, Charlton ...</td>\n",
       "    </tr>\n",
       "    <tr>\n",
       "      <th>9996</th>\n",
       "      <td>https://m.media-amazon.com/images/M/MV5BYzA0ZG...</td>\n",
       "      <td>Berserk: Ougon Jidai-hen I - Haou no Tamago</td>\n",
       "      <td>2020</td>\n",
       "      <td>7.5</td>\n",
       "      <td>14,300</td>\n",
       "      <td>01:16:0</td>\n",
       "      <td>Animation, Action, AdventureHiroaki Iwanaga, C...</td>\n",
       "    </tr>\n",
       "    <tr>\n",
       "      <th>9997</th>\n",
       "      <td>https://m.media-amazon.com/images/M/MV5BM2U1Mj...</td>\n",
       "      <td>Is-slottet</td>\n",
       "      <td>2020</td>\n",
       "      <td>6.5</td>\n",
       "      <td>740</td>\n",
       "      <td>01:18:0</td>\n",
       "      <td>Mystery, DramaLine Storesund, Hilde Nyeggen Ma...</td>\n",
       "    </tr>\n",
       "    <tr>\n",
       "      <th>9998</th>\n",
       "      <td>https://m.media-amazon.com/images/M/MV5BMTAwOD...</td>\n",
       "      <td>Loving Pablo</td>\n",
       "      <td>2020</td>\n",
       "      <td>6.4</td>\n",
       "      <td>22,447</td>\n",
       "      <td>02:03:0</td>\n",
       "      <td>Biography, Crime, DramaJavier Bardem, Penélope...</td>\n",
       "    </tr>\n",
       "    <tr>\n",
       "      <th>9999</th>\n",
       "      <td>https://m.media-amazon.com/images/M/MV5BMmE4ZD...</td>\n",
       "      <td>Un homme et une femme</td>\n",
       "      <td>2020</td>\n",
       "      <td>7.5</td>\n",
       "      <td>11,826</td>\n",
       "      <td>01:42:0</td>\n",
       "      <td>Drama, RomanceAnouk Aimée, Jean-Louis Trintign...</td>\n",
       "    </tr>\n",
       "  </tbody>\n",
       "</table>\n",
       "<p>9336 rows × 7 columns</p>\n",
       "</div>"
      ],
      "text/plain": [
       "                                                 Poster  \\\n",
       "0     https://m.media-amazon.com/images/M/MV5BYWRkZj...   \n",
       "1     https://m.media-amazon.com/images/M/MV5BZGI4NT...   \n",
       "2     https://m.media-amazon.com/images/M/MV5BZjIyOT...   \n",
       "3     https://m.media-amazon.com/images/M/MV5BMjA5Zj...   \n",
       "4     https://m.media-amazon.com/images/M/MV5BNTk1MT...   \n",
       "...                                                 ...   \n",
       "9995  https://m.media-amazon.com/images/M/MV5BMzg5MW...   \n",
       "9996  https://m.media-amazon.com/images/M/MV5BYzA0ZG...   \n",
       "9997  https://m.media-amazon.com/images/M/MV5BM2U1Mj...   \n",
       "9998  https://m.media-amazon.com/images/M/MV5BMTAwOD...   \n",
       "9999  https://m.media-amazon.com/images/M/MV5BMmE4ZD...   \n",
       "\n",
       "                                            Title  Year  Rating   Votes  \\\n",
       "0                                 The Idea of You  2023     6.4  28,744   \n",
       "1               Kingdom of the Planet of the Apes  2023     7.3  22,248   \n",
       "2                                       Unfrosted  2023     5.5  18,401   \n",
       "3                                    The Fall Guy  2023     7.3  38,953   \n",
       "4                                     Challengers  2023     7.7  32,517   \n",
       "...                                           ...   ...     ...     ...   \n",
       "9995                   The Greatest Show on Earth  2020     6.5  16,078   \n",
       "9996  Berserk: Ougon Jidai-hen I - Haou no Tamago  2020     7.5  14,300   \n",
       "9997                                   Is-slottet  2020     6.5     740   \n",
       "9998                                 Loving Pablo  2020     6.4  22,447   \n",
       "9999                        Un homme et une femme  2020     7.5  11,826   \n",
       "\n",
       "     Duration                                               info  \n",
       "0     01:55:0  Comedy, Drama, RomanceAnne Hathaway, Nicholas ...  \n",
       "1     02:25:0  Action, Adventure, Sci-FiOwen Teague, Freya Al...  \n",
       "2     01:37:0  Biography, Comedy, HistoryIsaac Bae, Jerry Sei...  \n",
       "3     02:06:0  Action, Comedy, DramaRyan Gosling, Emily Blunt...  \n",
       "4     02:11:0  Drama, Romance, SportZendaya, Mike Faist, Josh...  \n",
       "...       ...                                                ...  \n",
       "9995  02:32:0  Drama, Family, RomanceJames Stewart, Charlton ...  \n",
       "9996  01:16:0  Animation, Action, AdventureHiroaki Iwanaga, C...  \n",
       "9997  01:18:0  Mystery, DramaLine Storesund, Hilde Nyeggen Ma...  \n",
       "9998  02:03:0  Biography, Crime, DramaJavier Bardem, Penélope...  \n",
       "9999  01:42:0  Drama, RomanceAnouk Aimée, Jean-Louis Trintign...  \n",
       "\n",
       "[9336 rows x 7 columns]"
      ]
     },
     "execution_count": 16,
     "metadata": {},
     "output_type": "execute_result"
    }
   ],
   "source": [
    "movie_new"
   ]
  },
  {
   "cell_type": "code",
   "execution_count": 17,
   "id": "d63aa6f7",
   "metadata": {},
   "outputs": [],
   "source": [
    "movie_new.drop_duplicates(inplace=True)"
   ]
  },
  {
   "cell_type": "code",
   "execution_count": 18,
   "id": "c3d03a3f",
   "metadata": {},
   "outputs": [],
   "source": [
    "movie_new.reset_index(inplace=True)"
   ]
  },
  {
   "cell_type": "code",
   "execution_count": 19,
   "id": "d3fd6c52-d088-4234-b30b-9562c62862ae",
   "metadata": {},
   "outputs": [
    {
     "data": {
      "text/plain": [
       "'Comedy, Drama, RomanceAnne Hathaway, Nicholas Galitzine, Ella Rubin, Annie Mumolo 2023  6.4 Michael ShowalterSolène, a 40-year-old single mom, begins an unexpected romance with 24-year-old Hayes Campbell, the lead singer of August Moon, the hottest boy band on the planet.'"
      ]
     },
     "execution_count": 19,
     "metadata": {},
     "output_type": "execute_result"
    }
   ],
   "source": [
    "movie_new[\"info\"][0]"
   ]
  },
  {
   "cell_type": "code",
   "execution_count": 20,
   "id": "88d336cb-490a-4667-bdc6-46246de05eb2",
   "metadata": {},
   "outputs": [],
   "source": [
    "# def define_shape(data):\n",
    "#     new_data = data.split()\n",
    "#     if len(new_data)<50:\n",
    "#         return None\n",
    "#     return new_data[:50]"
   ]
  },
  {
   "cell_type": "markdown",
   "id": "6e239782-dc26-4483-b124-756178b4a5c1",
   "metadata": {},
   "source": []
  },
  {
   "cell_type": "code",
   "execution_count": 21,
   "id": "7f689b85-c060-4593-a239-a44f21c72cf9",
   "metadata": {},
   "outputs": [],
   "source": [
    "# movie_new[\"info\"] = movie_new[\"info\"].apply(define_shape)"
   ]
  },
  {
   "cell_type": "code",
   "execution_count": 22,
   "id": "198de1bd-b127-483e-b221-e336cfd8f584",
   "metadata": {},
   "outputs": [],
   "source": [
    "movie_new.dropna(inplace=True)"
   ]
  },
  {
   "cell_type": "code",
   "execution_count": 23,
   "id": "ebce0cf0-b1f2-4b93-9aa8-d5630fd54e6b",
   "metadata": {},
   "outputs": [
    {
     "name": "stdout",
     "output_type": "stream",
     "text": [
      "<class 'pandas.core.frame.DataFrame'>\n",
      "RangeIndex: 9336 entries, 0 to 9335\n",
      "Data columns (total 8 columns):\n",
      " #   Column    Non-Null Count  Dtype  \n",
      "---  ------    --------------  -----  \n",
      " 0   index     9336 non-null   int64  \n",
      " 1   Poster    9336 non-null   object \n",
      " 2   Title     9336 non-null   object \n",
      " 3   Year      9336 non-null   object \n",
      " 4   Rating    9336 non-null   float64\n",
      " 5   Votes     9336 non-null   object \n",
      " 6   Duration  9336 non-null   object \n",
      " 7   info      9336 non-null   object \n",
      "dtypes: float64(1), int64(1), object(6)\n",
      "memory usage: 583.6+ KB\n"
     ]
    }
   ],
   "source": [
    "\n",
    "movie_new.info()"
   ]
  },
  {
   "cell_type": "code",
   "execution_count": 24,
   "id": "66ae09d2-0103-4c12-a67f-3717a192b995",
   "metadata": {},
   "outputs": [],
   "source": [
    "def votes_convert(data):\n",
    "    ans = \"\"\n",
    "    for i in data:\n",
    "        if i in \"1234567890\":\n",
    "            ans+=i\n",
    "    return float(ans)\n",
    "    "
   ]
  },
  {
   "cell_type": "code",
   "execution_count": 25,
   "id": "d27f002c-1e2a-42d6-9e60-f170fe1e75e4",
   "metadata": {},
   "outputs": [],
   "source": [
    "movie_new[\"Votes\"] = movie_new[\"Votes\"].apply(votes_convert)"
   ]
  },
  {
   "cell_type": "code",
   "execution_count": 26,
   "id": "e4533790-d324-4d29-aac4-1bcaddf0fffb",
   "metadata": {},
   "outputs": [
    {
     "data": {
      "text/html": [
       "<div>\n",
       "<style scoped>\n",
       "    .dataframe tbody tr th:only-of-type {\n",
       "        vertical-align: middle;\n",
       "    }\n",
       "\n",
       "    .dataframe tbody tr th {\n",
       "        vertical-align: top;\n",
       "    }\n",
       "\n",
       "    .dataframe thead th {\n",
       "        text-align: right;\n",
       "    }\n",
       "</style>\n",
       "<table border=\"1\" class=\"dataframe\">\n",
       "  <thead>\n",
       "    <tr style=\"text-align: right;\">\n",
       "      <th></th>\n",
       "      <th>index</th>\n",
       "      <th>Rating</th>\n",
       "      <th>Votes</th>\n",
       "    </tr>\n",
       "  </thead>\n",
       "  <tbody>\n",
       "    <tr>\n",
       "      <th>count</th>\n",
       "      <td>9336.000000</td>\n",
       "      <td>9336.000000</td>\n",
       "      <td>9.336000e+03</td>\n",
       "    </tr>\n",
       "    <tr>\n",
       "      <th>mean</th>\n",
       "      <td>4912.202978</td>\n",
       "      <td>6.442063</td>\n",
       "      <td>9.869140e+04</td>\n",
       "    </tr>\n",
       "    <tr>\n",
       "      <th>std</th>\n",
       "      <td>2858.832153</td>\n",
       "      <td>1.043144</td>\n",
       "      <td>1.839405e+05</td>\n",
       "    </tr>\n",
       "    <tr>\n",
       "      <th>min</th>\n",
       "      <td>0.000000</td>\n",
       "      <td>1.300000</td>\n",
       "      <td>2.500000e+01</td>\n",
       "    </tr>\n",
       "    <tr>\n",
       "      <th>25%</th>\n",
       "      <td>2437.750000</td>\n",
       "      <td>5.800000</td>\n",
       "      <td>1.224275e+04</td>\n",
       "    </tr>\n",
       "    <tr>\n",
       "      <th>50%</th>\n",
       "      <td>4881.500000</td>\n",
       "      <td>6.500000</td>\n",
       "      <td>3.847600e+04</td>\n",
       "    </tr>\n",
       "    <tr>\n",
       "      <th>75%</th>\n",
       "      <td>7344.250000</td>\n",
       "      <td>7.200000</td>\n",
       "      <td>1.035825e+05</td>\n",
       "    </tr>\n",
       "    <tr>\n",
       "      <th>max</th>\n",
       "      <td>9999.000000</td>\n",
       "      <td>9.700000</td>\n",
       "      <td>2.894940e+06</td>\n",
       "    </tr>\n",
       "  </tbody>\n",
       "</table>\n",
       "</div>"
      ],
      "text/plain": [
       "             index       Rating         Votes\n",
       "count  9336.000000  9336.000000  9.336000e+03\n",
       "mean   4912.202978     6.442063  9.869140e+04\n",
       "std    2858.832153     1.043144  1.839405e+05\n",
       "min       0.000000     1.300000  2.500000e+01\n",
       "25%    2437.750000     5.800000  1.224275e+04\n",
       "50%    4881.500000     6.500000  3.847600e+04\n",
       "75%    7344.250000     7.200000  1.035825e+05\n",
       "max    9999.000000     9.700000  2.894940e+06"
      ]
     },
     "execution_count": 26,
     "metadata": {},
     "output_type": "execute_result"
    }
   ],
   "source": [
    "movie_new.describe()"
   ]
  },
  {
   "cell_type": "code",
   "execution_count": 27,
   "id": "18a912e7-7a09-49c4-8a3b-131542bf8b5b",
   "metadata": {},
   "outputs": [],
   "source": [
    "# Select top 100  movie with highest rating and votes movie\n",
    "top_100 = movie_new.sort_values(by=[\"Rating\",\"Votes\"],ascending=False).iloc[:100,:]"
   ]
  },
  {
   "cell_type": "code",
   "execution_count": 28,
   "id": "6b2d9df2-391e-4de3-a955-7626f40a3579",
   "metadata": {},
   "outputs": [
    {
     "data": {
      "text/html": [
       "<div>\n",
       "<style scoped>\n",
       "    .dataframe tbody tr th:only-of-type {\n",
       "        vertical-align: middle;\n",
       "    }\n",
       "\n",
       "    .dataframe tbody tr th {\n",
       "        vertical-align: top;\n",
       "    }\n",
       "\n",
       "    .dataframe thead th {\n",
       "        text-align: right;\n",
       "    }\n",
       "</style>\n",
       "<table border=\"1\" class=\"dataframe\">\n",
       "  <thead>\n",
       "    <tr style=\"text-align: right;\">\n",
       "      <th></th>\n",
       "      <th>index</th>\n",
       "      <th>Poster</th>\n",
       "      <th>Title</th>\n",
       "      <th>Year</th>\n",
       "      <th>Rating</th>\n",
       "      <th>Votes</th>\n",
       "      <th>Duration</th>\n",
       "      <th>info</th>\n",
       "    </tr>\n",
       "  </thead>\n",
       "  <tbody>\n",
       "    <tr>\n",
       "      <th>6112</th>\n",
       "      <td>6401</td>\n",
       "      <td>https://m.media-amazon.com/images/M/MV5BOGMyZT...</td>\n",
       "      <td>August</td>\n",
       "      <td>1985</td>\n",
       "      <td>9.7</td>\n",
       "      <td>2299.0</td>\n",
       "      <td>00:52:0</td>\n",
       "      <td>DocumentaryZhehan Zhang 1985  9.7 Zhehan Zhang...</td>\n",
       "    </tr>\n",
       "    <tr>\n",
       "      <th>64</th>\n",
       "      <td>71</td>\n",
       "      <td>https://m.media-amazon.com/images/M/MV5BNDE3OD...</td>\n",
       "      <td>The Shawshank Redemption</td>\n",
       "      <td>2023</td>\n",
       "      <td>9.3</td>\n",
       "      <td>2894940.0</td>\n",
       "      <td>02:22:0</td>\n",
       "      <td>DramaTim Robbins, Morgan Freeman, Bob Gunton, ...</td>\n",
       "    </tr>\n",
       "    <tr>\n",
       "      <th>49</th>\n",
       "      <td>55</td>\n",
       "      <td>https://m.media-amazon.com/images/M/MV5BM2MyNj...</td>\n",
       "      <td>The Godfather</td>\n",
       "      <td>2023</td>\n",
       "      <td>9.2</td>\n",
       "      <td>2017131.0</td>\n",
       "      <td>02:55:0</td>\n",
       "      <td>Crime, DramaMarlon Brando, Al Pacino, James Ca...</td>\n",
       "    </tr>\n",
       "    <tr>\n",
       "      <th>97</th>\n",
       "      <td>106</td>\n",
       "      <td>https://m.media-amazon.com/images/M/MV5BMTMxNT...</td>\n",
       "      <td>The Dark Knight</td>\n",
       "      <td>2002</td>\n",
       "      <td>9.0</td>\n",
       "      <td>2876586.0</td>\n",
       "      <td>02:32:0</td>\n",
       "      <td>Action, Crime, DramaChristian Bale, Heath Ledg...</td>\n",
       "    </tr>\n",
       "    <tr>\n",
       "      <th>106</th>\n",
       "      <td>116</td>\n",
       "      <td>https://m.media-amazon.com/images/M/MV5BNzA5ZD...</td>\n",
       "      <td>The Lord of the Rings: The Return of the King</td>\n",
       "      <td>2002</td>\n",
       "      <td>9.0</td>\n",
       "      <td>1982971.0</td>\n",
       "      <td>03:21:0</td>\n",
       "      <td>Action, Adventure, DramaElijah Wood, Viggo Mor...</td>\n",
       "    </tr>\n",
       "    <tr>\n",
       "      <th>...</th>\n",
       "      <td>...</td>\n",
       "      <td>...</td>\n",
       "      <td>...</td>\n",
       "      <td>...</td>\n",
       "      <td>...</td>\n",
       "      <td>...</td>\n",
       "      <td>...</td>\n",
       "      <td>...</td>\n",
       "    </tr>\n",
       "    <tr>\n",
       "      <th>633</th>\n",
       "      <td>674</td>\n",
       "      <td>https://m.media-amazon.com/images/M/MV5BMjMwND...</td>\n",
       "      <td>Spider-Man: Into the Spider-Verse</td>\n",
       "      <td>2012</td>\n",
       "      <td>8.4</td>\n",
       "      <td>673811.0</td>\n",
       "      <td>01:57:0</td>\n",
       "      <td>Animation, Action, AdventurePeter Ramsey, Rodn...</td>\n",
       "    </tr>\n",
       "    <tr>\n",
       "      <th>669</th>\n",
       "      <td>712</td>\n",
       "      <td>https://m.media-amazon.com/images/M/MV5BYjQ5Nj...</td>\n",
       "      <td>Coco</td>\n",
       "      <td>1996</td>\n",
       "      <td>8.4</td>\n",
       "      <td>592504.0</td>\n",
       "      <td>01:45:0</td>\n",
       "      <td>Animation, Adventure, DramaAdrian Molina, Anth...</td>\n",
       "    </tr>\n",
       "    <tr>\n",
       "      <th>1006</th>\n",
       "      <td>1059</td>\n",
       "      <td>https://m.media-amazon.com/images/M/MV5BMWMxYj...</td>\n",
       "      <td>Dr. Strangelove or: How I Learned to Stop Worr...</td>\n",
       "      <td>2018</td>\n",
       "      <td>8.4</td>\n",
       "      <td>518982.0</td>\n",
       "      <td>01:35:0</td>\n",
       "      <td>Comedy, WarPeter Sellers, George C. Scott, Ste...</td>\n",
       "    </tr>\n",
       "    <tr>\n",
       "      <th>2290</th>\n",
       "      <td>2393</td>\n",
       "      <td>https://m.media-amazon.com/images/M/MV5BNTkyOG...</td>\n",
       "      <td>3 Idiots</td>\n",
       "      <td>2013</td>\n",
       "      <td>8.4</td>\n",
       "      <td>435460.0</td>\n",
       "      <td>02:50:0</td>\n",
       "      <td>Comedy, DramaAamir Khan, Madhavan, Mona Singh,...</td>\n",
       "    </tr>\n",
       "    <tr>\n",
       "      <th>313</th>\n",
       "      <td>341</td>\n",
       "      <td>https://m.media-amazon.com/images/M/MV5BNWJlNz...</td>\n",
       "      <td>Amadeus</td>\n",
       "      <td>1997</td>\n",
       "      <td>8.4</td>\n",
       "      <td>428838.0</td>\n",
       "      <td>02:40:0</td>\n",
       "      <td>Biography, Drama, MusicF. Murray Abraham, Tom ...</td>\n",
       "    </tr>\n",
       "  </tbody>\n",
       "</table>\n",
       "<p>100 rows × 8 columns</p>\n",
       "</div>"
      ],
      "text/plain": [
       "      index                                             Poster  \\\n",
       "6112   6401  https://m.media-amazon.com/images/M/MV5BOGMyZT...   \n",
       "64       71  https://m.media-amazon.com/images/M/MV5BNDE3OD...   \n",
       "49       55  https://m.media-amazon.com/images/M/MV5BM2MyNj...   \n",
       "97      106  https://m.media-amazon.com/images/M/MV5BMTMxNT...   \n",
       "106     116  https://m.media-amazon.com/images/M/MV5BNzA5ZD...   \n",
       "...     ...                                                ...   \n",
       "633     674  https://m.media-amazon.com/images/M/MV5BMjMwND...   \n",
       "669     712  https://m.media-amazon.com/images/M/MV5BYjQ5Nj...   \n",
       "1006   1059  https://m.media-amazon.com/images/M/MV5BMWMxYj...   \n",
       "2290   2393  https://m.media-amazon.com/images/M/MV5BNTkyOG...   \n",
       "313     341  https://m.media-amazon.com/images/M/MV5BNWJlNz...   \n",
       "\n",
       "                                                  Title  Year  Rating  \\\n",
       "6112                                             August  1985     9.7   \n",
       "64                             The Shawshank Redemption  2023     9.3   \n",
       "49                                        The Godfather  2023     9.2   \n",
       "97                                      The Dark Knight  2002     9.0   \n",
       "106       The Lord of the Rings: The Return of the King  2002     9.0   \n",
       "...                                                 ...   ...     ...   \n",
       "633                   Spider-Man: Into the Spider-Verse  2012     8.4   \n",
       "669                                                Coco  1996     8.4   \n",
       "1006  Dr. Strangelove or: How I Learned to Stop Worr...  2018     8.4   \n",
       "2290                                           3 Idiots  2013     8.4   \n",
       "313                                             Amadeus  1997     8.4   \n",
       "\n",
       "          Votes Duration                                               info  \n",
       "6112     2299.0  00:52:0  DocumentaryZhehan Zhang 1985  9.7 Zhehan Zhang...  \n",
       "64    2894940.0  02:22:0  DramaTim Robbins, Morgan Freeman, Bob Gunton, ...  \n",
       "49    2017131.0  02:55:0  Crime, DramaMarlon Brando, Al Pacino, James Ca...  \n",
       "97    2876586.0  02:32:0  Action, Crime, DramaChristian Bale, Heath Ledg...  \n",
       "106   1982971.0  03:21:0  Action, Adventure, DramaElijah Wood, Viggo Mor...  \n",
       "...         ...      ...                                                ...  \n",
       "633    673811.0  01:57:0  Animation, Action, AdventurePeter Ramsey, Rodn...  \n",
       "669    592504.0  01:45:0  Animation, Adventure, DramaAdrian Molina, Anth...  \n",
       "1006   518982.0  01:35:0  Comedy, WarPeter Sellers, George C. Scott, Ste...  \n",
       "2290   435460.0  02:50:0  Comedy, DramaAamir Khan, Madhavan, Mona Singh,...  \n",
       "313    428838.0  02:40:0  Biography, Drama, MusicF. Murray Abraham, Tom ...  \n",
       "\n",
       "[100 rows x 8 columns]"
      ]
     },
     "execution_count": 28,
     "metadata": {},
     "output_type": "execute_result"
    }
   ],
   "source": [
    "# selection top 100 for viewing home page\n",
    "top_100"
   ]
  },
  {
   "cell_type": "code",
   "execution_count": 29,
   "id": "930e8af0-4e20-4c79-9ffb-baccb9810e62",
   "metadata": {},
   "outputs": [],
   "source": [
    "movie_new.drop(columns=\"Votes\",inplace=True)\n",
    "top_100.drop(columns=\"Votes\",inplace=True)"
   ]
  },
  {
   "cell_type": "code",
   "execution_count": 30,
   "id": "f5b90c4a-c9a6-4cc7-a59d-d0cdc507fdb4",
   "metadata": {},
   "outputs": [
    {
     "data": {
      "text/html": [
       "<div>\n",
       "<style scoped>\n",
       "    .dataframe tbody tr th:only-of-type {\n",
       "        vertical-align: middle;\n",
       "    }\n",
       "\n",
       "    .dataframe tbody tr th {\n",
       "        vertical-align: top;\n",
       "    }\n",
       "\n",
       "    .dataframe thead th {\n",
       "        text-align: right;\n",
       "    }\n",
       "</style>\n",
       "<table border=\"1\" class=\"dataframe\">\n",
       "  <thead>\n",
       "    <tr style=\"text-align: right;\">\n",
       "      <th></th>\n",
       "      <th>index</th>\n",
       "      <th>Poster</th>\n",
       "      <th>Title</th>\n",
       "      <th>Year</th>\n",
       "      <th>Rating</th>\n",
       "      <th>Duration</th>\n",
       "      <th>info</th>\n",
       "    </tr>\n",
       "  </thead>\n",
       "  <tbody>\n",
       "    <tr>\n",
       "      <th>0</th>\n",
       "      <td>0</td>\n",
       "      <td>https://m.media-amazon.com/images/M/MV5BYWRkZj...</td>\n",
       "      <td>The Idea of You</td>\n",
       "      <td>2023</td>\n",
       "      <td>6.4</td>\n",
       "      <td>01:55:0</td>\n",
       "      <td>Comedy, Drama, RomanceAnne Hathaway, Nicholas ...</td>\n",
       "    </tr>\n",
       "    <tr>\n",
       "      <th>1</th>\n",
       "      <td>1</td>\n",
       "      <td>https://m.media-amazon.com/images/M/MV5BZGI4NT...</td>\n",
       "      <td>Kingdom of the Planet of the Apes</td>\n",
       "      <td>2023</td>\n",
       "      <td>7.3</td>\n",
       "      <td>02:25:0</td>\n",
       "      <td>Action, Adventure, Sci-FiOwen Teague, Freya Al...</td>\n",
       "    </tr>\n",
       "    <tr>\n",
       "      <th>2</th>\n",
       "      <td>2</td>\n",
       "      <td>https://m.media-amazon.com/images/M/MV5BZjIyOT...</td>\n",
       "      <td>Unfrosted</td>\n",
       "      <td>2023</td>\n",
       "      <td>5.5</td>\n",
       "      <td>01:37:0</td>\n",
       "      <td>Biography, Comedy, HistoryIsaac Bae, Jerry Sei...</td>\n",
       "    </tr>\n",
       "    <tr>\n",
       "      <th>3</th>\n",
       "      <td>3</td>\n",
       "      <td>https://m.media-amazon.com/images/M/MV5BMjA5Zj...</td>\n",
       "      <td>The Fall Guy</td>\n",
       "      <td>2023</td>\n",
       "      <td>7.3</td>\n",
       "      <td>02:06:0</td>\n",
       "      <td>Action, Comedy, DramaRyan Gosling, Emily Blunt...</td>\n",
       "    </tr>\n",
       "    <tr>\n",
       "      <th>4</th>\n",
       "      <td>4</td>\n",
       "      <td>https://m.media-amazon.com/images/M/MV5BNTk1MT...</td>\n",
       "      <td>Challengers</td>\n",
       "      <td>2023</td>\n",
       "      <td>7.7</td>\n",
       "      <td>02:11:0</td>\n",
       "      <td>Drama, Romance, SportZendaya, Mike Faist, Josh...</td>\n",
       "    </tr>\n",
       "  </tbody>\n",
       "</table>\n",
       "</div>"
      ],
      "text/plain": [
       "   index                                             Poster  \\\n",
       "0      0  https://m.media-amazon.com/images/M/MV5BYWRkZj...   \n",
       "1      1  https://m.media-amazon.com/images/M/MV5BZGI4NT...   \n",
       "2      2  https://m.media-amazon.com/images/M/MV5BZjIyOT...   \n",
       "3      3  https://m.media-amazon.com/images/M/MV5BMjA5Zj...   \n",
       "4      4  https://m.media-amazon.com/images/M/MV5BNTk1MT...   \n",
       "\n",
       "                               Title  Year  Rating Duration  \\\n",
       "0                    The Idea of You  2023     6.4  01:55:0   \n",
       "1  Kingdom of the Planet of the Apes  2023     7.3  02:25:0   \n",
       "2                          Unfrosted  2023     5.5  01:37:0   \n",
       "3                       The Fall Guy  2023     7.3  02:06:0   \n",
       "4                        Challengers  2023     7.7  02:11:0   \n",
       "\n",
       "                                                info  \n",
       "0  Comedy, Drama, RomanceAnne Hathaway, Nicholas ...  \n",
       "1  Action, Adventure, Sci-FiOwen Teague, Freya Al...  \n",
       "2  Biography, Comedy, HistoryIsaac Bae, Jerry Sei...  \n",
       "3  Action, Comedy, DramaRyan Gosling, Emily Blunt...  \n",
       "4  Drama, Romance, SportZendaya, Mike Faist, Josh...  "
      ]
     },
     "execution_count": 30,
     "metadata": {},
     "output_type": "execute_result"
    }
   ],
   "source": [
    "movie_new.head()"
   ]
  },
  {
   "cell_type": "code",
   "execution_count": 31,
   "id": "6954533c-157d-4a01-9022-8e9515235632",
   "metadata": {},
   "outputs": [
    {
     "data": {
      "text/html": [
       "<div>\n",
       "<style scoped>\n",
       "    .dataframe tbody tr th:only-of-type {\n",
       "        vertical-align: middle;\n",
       "    }\n",
       "\n",
       "    .dataframe tbody tr th {\n",
       "        vertical-align: top;\n",
       "    }\n",
       "\n",
       "    .dataframe thead th {\n",
       "        text-align: right;\n",
       "    }\n",
       "</style>\n",
       "<table border=\"1\" class=\"dataframe\">\n",
       "  <thead>\n",
       "    <tr style=\"text-align: right;\">\n",
       "      <th></th>\n",
       "      <th>index</th>\n",
       "      <th>Poster</th>\n",
       "      <th>Title</th>\n",
       "      <th>Year</th>\n",
       "      <th>Rating</th>\n",
       "      <th>Duration</th>\n",
       "      <th>info</th>\n",
       "    </tr>\n",
       "  </thead>\n",
       "  <tbody>\n",
       "    <tr>\n",
       "      <th>6112</th>\n",
       "      <td>6401</td>\n",
       "      <td>https://m.media-amazon.com/images/M/MV5BOGMyZT...</td>\n",
       "      <td>August</td>\n",
       "      <td>1985</td>\n",
       "      <td>9.7</td>\n",
       "      <td>00:52:0</td>\n",
       "      <td>DocumentaryZhehan Zhang 1985  9.7 Zhehan Zhang...</td>\n",
       "    </tr>\n",
       "    <tr>\n",
       "      <th>64</th>\n",
       "      <td>71</td>\n",
       "      <td>https://m.media-amazon.com/images/M/MV5BNDE3OD...</td>\n",
       "      <td>The Shawshank Redemption</td>\n",
       "      <td>2023</td>\n",
       "      <td>9.3</td>\n",
       "      <td>02:22:0</td>\n",
       "      <td>DramaTim Robbins, Morgan Freeman, Bob Gunton, ...</td>\n",
       "    </tr>\n",
       "    <tr>\n",
       "      <th>49</th>\n",
       "      <td>55</td>\n",
       "      <td>https://m.media-amazon.com/images/M/MV5BM2MyNj...</td>\n",
       "      <td>The Godfather</td>\n",
       "      <td>2023</td>\n",
       "      <td>9.2</td>\n",
       "      <td>02:55:0</td>\n",
       "      <td>Crime, DramaMarlon Brando, Al Pacino, James Ca...</td>\n",
       "    </tr>\n",
       "    <tr>\n",
       "      <th>97</th>\n",
       "      <td>106</td>\n",
       "      <td>https://m.media-amazon.com/images/M/MV5BMTMxNT...</td>\n",
       "      <td>The Dark Knight</td>\n",
       "      <td>2002</td>\n",
       "      <td>9.0</td>\n",
       "      <td>02:32:0</td>\n",
       "      <td>Action, Crime, DramaChristian Bale, Heath Ledg...</td>\n",
       "    </tr>\n",
       "    <tr>\n",
       "      <th>106</th>\n",
       "      <td>116</td>\n",
       "      <td>https://m.media-amazon.com/images/M/MV5BNzA5ZD...</td>\n",
       "      <td>The Lord of the Rings: The Return of the King</td>\n",
       "      <td>2002</td>\n",
       "      <td>9.0</td>\n",
       "      <td>03:21:0</td>\n",
       "      <td>Action, Adventure, DramaElijah Wood, Viggo Mor...</td>\n",
       "    </tr>\n",
       "    <tr>\n",
       "      <th>...</th>\n",
       "      <td>...</td>\n",
       "      <td>...</td>\n",
       "      <td>...</td>\n",
       "      <td>...</td>\n",
       "      <td>...</td>\n",
       "      <td>...</td>\n",
       "      <td>...</td>\n",
       "    </tr>\n",
       "    <tr>\n",
       "      <th>633</th>\n",
       "      <td>674</td>\n",
       "      <td>https://m.media-amazon.com/images/M/MV5BMjMwND...</td>\n",
       "      <td>Spider-Man: Into the Spider-Verse</td>\n",
       "      <td>2012</td>\n",
       "      <td>8.4</td>\n",
       "      <td>01:57:0</td>\n",
       "      <td>Animation, Action, AdventurePeter Ramsey, Rodn...</td>\n",
       "    </tr>\n",
       "    <tr>\n",
       "      <th>669</th>\n",
       "      <td>712</td>\n",
       "      <td>https://m.media-amazon.com/images/M/MV5BYjQ5Nj...</td>\n",
       "      <td>Coco</td>\n",
       "      <td>1996</td>\n",
       "      <td>8.4</td>\n",
       "      <td>01:45:0</td>\n",
       "      <td>Animation, Adventure, DramaAdrian Molina, Anth...</td>\n",
       "    </tr>\n",
       "    <tr>\n",
       "      <th>1006</th>\n",
       "      <td>1059</td>\n",
       "      <td>https://m.media-amazon.com/images/M/MV5BMWMxYj...</td>\n",
       "      <td>Dr. Strangelove or: How I Learned to Stop Worr...</td>\n",
       "      <td>2018</td>\n",
       "      <td>8.4</td>\n",
       "      <td>01:35:0</td>\n",
       "      <td>Comedy, WarPeter Sellers, George C. Scott, Ste...</td>\n",
       "    </tr>\n",
       "    <tr>\n",
       "      <th>2290</th>\n",
       "      <td>2393</td>\n",
       "      <td>https://m.media-amazon.com/images/M/MV5BNTkyOG...</td>\n",
       "      <td>3 Idiots</td>\n",
       "      <td>2013</td>\n",
       "      <td>8.4</td>\n",
       "      <td>02:50:0</td>\n",
       "      <td>Comedy, DramaAamir Khan, Madhavan, Mona Singh,...</td>\n",
       "    </tr>\n",
       "    <tr>\n",
       "      <th>313</th>\n",
       "      <td>341</td>\n",
       "      <td>https://m.media-amazon.com/images/M/MV5BNWJlNz...</td>\n",
       "      <td>Amadeus</td>\n",
       "      <td>1997</td>\n",
       "      <td>8.4</td>\n",
       "      <td>02:40:0</td>\n",
       "      <td>Biography, Drama, MusicF. Murray Abraham, Tom ...</td>\n",
       "    </tr>\n",
       "  </tbody>\n",
       "</table>\n",
       "<p>100 rows × 7 columns</p>\n",
       "</div>"
      ],
      "text/plain": [
       "      index                                             Poster  \\\n",
       "6112   6401  https://m.media-amazon.com/images/M/MV5BOGMyZT...   \n",
       "64       71  https://m.media-amazon.com/images/M/MV5BNDE3OD...   \n",
       "49       55  https://m.media-amazon.com/images/M/MV5BM2MyNj...   \n",
       "97      106  https://m.media-amazon.com/images/M/MV5BMTMxNT...   \n",
       "106     116  https://m.media-amazon.com/images/M/MV5BNzA5ZD...   \n",
       "...     ...                                                ...   \n",
       "633     674  https://m.media-amazon.com/images/M/MV5BMjMwND...   \n",
       "669     712  https://m.media-amazon.com/images/M/MV5BYjQ5Nj...   \n",
       "1006   1059  https://m.media-amazon.com/images/M/MV5BMWMxYj...   \n",
       "2290   2393  https://m.media-amazon.com/images/M/MV5BNTkyOG...   \n",
       "313     341  https://m.media-amazon.com/images/M/MV5BNWJlNz...   \n",
       "\n",
       "                                                  Title  Year  Rating  \\\n",
       "6112                                             August  1985     9.7   \n",
       "64                             The Shawshank Redemption  2023     9.3   \n",
       "49                                        The Godfather  2023     9.2   \n",
       "97                                      The Dark Knight  2002     9.0   \n",
       "106       The Lord of the Rings: The Return of the King  2002     9.0   \n",
       "...                                                 ...   ...     ...   \n",
       "633                   Spider-Man: Into the Spider-Verse  2012     8.4   \n",
       "669                                                Coco  1996     8.4   \n",
       "1006  Dr. Strangelove or: How I Learned to Stop Worr...  2018     8.4   \n",
       "2290                                           3 Idiots  2013     8.4   \n",
       "313                                             Amadeus  1997     8.4   \n",
       "\n",
       "     Duration                                               info  \n",
       "6112  00:52:0  DocumentaryZhehan Zhang 1985  9.7 Zhehan Zhang...  \n",
       "64    02:22:0  DramaTim Robbins, Morgan Freeman, Bob Gunton, ...  \n",
       "49    02:55:0  Crime, DramaMarlon Brando, Al Pacino, James Ca...  \n",
       "97    02:32:0  Action, Crime, DramaChristian Bale, Heath Ledg...  \n",
       "106   03:21:0  Action, Adventure, DramaElijah Wood, Viggo Mor...  \n",
       "...       ...                                                ...  \n",
       "633   01:57:0  Animation, Action, AdventurePeter Ramsey, Rodn...  \n",
       "669   01:45:0  Animation, Adventure, DramaAdrian Molina, Anth...  \n",
       "1006  01:35:0  Comedy, WarPeter Sellers, George C. Scott, Ste...  \n",
       "2290  02:50:0  Comedy, DramaAamir Khan, Madhavan, Mona Singh,...  \n",
       "313   02:40:0  Biography, Drama, MusicF. Murray Abraham, Tom ...  \n",
       "\n",
       "[100 rows x 7 columns]"
      ]
     },
     "execution_count": 31,
     "metadata": {},
     "output_type": "execute_result"
    }
   ],
   "source": [
    "top_100"
   ]
  },
  {
   "cell_type": "markdown",
   "id": "85d601d7-b9dd-4ee5-84fa-c47c8b1275cd",
   "metadata": {},
   "source": [
    "#### **Stem the data**"
   ]
  },
  {
   "cell_type": "code",
   "execution_count": 32,
   "id": "2e379fcd-f2c3-4d64-8826-b59c724f7911",
   "metadata": {},
   "outputs": [],
   "source": [
    "# here we need stem the words\n",
    "import nltk\n",
    "\n",
    "# function for steming the word\n",
    "from nltk.stem.porter import PorterStemmer\n",
    "stemmer = PorterStemmer()"
   ]
  },
  {
   "cell_type": "code",
   "execution_count": 33,
   "id": "de85a8f9-37c3-4e51-bb06-7272941b6091",
   "metadata": {},
   "outputs": [],
   "source": [
    "def stem(data):\n",
    "    new = []\n",
    "    for i in data.split():\n",
    "        new.append(stemmer.stem(i))\n",
    "    return \" \".join(new)"
   ]
  },
  {
   "cell_type": "code",
   "execution_count": 34,
   "id": "e1016b6f-94a3-48ef-9408-e80058f6ce57",
   "metadata": {},
   "outputs": [
    {
     "data": {
      "text/plain": [
       "'comedy, drama, romanceann hathaway, nichola galitzine, ella rubin, anni mumolo 2023 6.4 michael showaltersolène, a 40-year-old singl mom, begin an unexpect romanc with 24-year-old hay campbell, the lead singer of august moon, the hottest boy band on the planet.'"
      ]
     },
     "execution_count": 34,
     "metadata": {},
     "output_type": "execute_result"
    }
   ],
   "source": [
    "stem(movie_new[\"info\"][0])"
   ]
  },
  {
   "cell_type": "code",
   "execution_count": 35,
   "id": "1a3dc26e-9ca1-4f22-8a40-c77716eebd8f",
   "metadata": {},
   "outputs": [
    {
     "data": {
      "text/plain": [
       "'danc creat'"
      ]
     },
     "execution_count": 35,
     "metadata": {},
     "output_type": "execute_result"
    }
   ],
   "source": [
    "stem(\"Dancing created\")"
   ]
  },
  {
   "cell_type": "code",
   "execution_count": 36,
   "id": "966f08f7-ef5e-43fd-a972-f1dafb8771f8",
   "metadata": {},
   "outputs": [],
   "source": [
    "movie_new[\"info\"] = movie_new[\"info\"].apply(stem)"
   ]
  },
  {
   "cell_type": "markdown",
   "id": "4244a6b8-094e-4367-8a9f-f72152dd65ee",
   "metadata": {},
   "source": [
    "## **Model Building**"
   ]
  },
  {
   "cell_type": "code",
   "execution_count": 37,
   "id": "4162e2be-a518-4a0b-aea5-5e93ccc1523b",
   "metadata": {},
   "outputs": [],
   "source": [
    "from sklearn.feature_extraction.text import CountVectorizer\n",
    "cv = CountVectorizer(max_features=5000,stop_words=\"english\")"
   ]
  },
  {
   "cell_type": "code",
   "execution_count": 38,
   "id": "09d3fdc2-6ccb-4d83-8950-d6b5bac0cb9f",
   "metadata": {},
   "outputs": [],
   "source": [
    "vector = cv.fit_transform(movie_new[\"info\"]).toarray()"
   ]
  },
  {
   "cell_type": "code",
   "execution_count": 39,
   "id": "b582e96d-a29d-4852-b30f-4a16375f58f3",
   "metadata": {},
   "outputs": [
    {
     "data": {
      "text/plain": [
       "array([[0, 0, 0, ..., 0, 0, 0],\n",
       "       [0, 0, 0, ..., 0, 0, 0],\n",
       "       [0, 0, 0, ..., 0, 0, 0],\n",
       "       ...,\n",
       "       [0, 0, 0, ..., 0, 0, 0],\n",
       "       [0, 0, 0, ..., 0, 0, 0],\n",
       "       [0, 0, 0, ..., 0, 0, 0]])"
      ]
     },
     "execution_count": 39,
     "metadata": {},
     "output_type": "execute_result"
    }
   ],
   "source": [
    "vector"
   ]
  },
  {
   "cell_type": "code",
   "execution_count": 41,
   "id": "331c6ce5-a173-43fb-968b-7623cf89a958",
   "metadata": {},
   "outputs": [
    {
     "data": {
      "text/plain": [
       "array([0, 0, 0, ..., 0, 0, 0])"
      ]
     },
     "execution_count": 41,
     "metadata": {},
     "output_type": "execute_result"
    }
   ],
   "source": [
    "vector[0]"
   ]
  },
  {
   "cell_type": "code",
   "execution_count": 42,
   "id": "58b996c1-1ab5-4daf-b993-98da2ee986d4",
   "metadata": {},
   "outputs": [
    {
     "data": {
      "text/plain": [
       "array(['000', '10', '11', ..., 'zooey', 'zoë', 'zucker'], dtype=object)"
      ]
     },
     "execution_count": 42,
     "metadata": {},
     "output_type": "execute_result"
    }
   ],
   "source": [
    "cv.get_feature_names_out()"
   ]
  },
  {
   "cell_type": "code",
   "execution_count": 97,
   "id": "ae8cc826-580a-4d36-bf56-6a5cd6c64d11",
   "metadata": {},
   "outputs": [],
   "source": [
    "# here we need stem the words"
   ]
  },
  {
   "cell_type": "code",
   "execution_count": 43,
   "id": "8351246b-29fb-42e7-8af6-ba67b447e6fb",
   "metadata": {},
   "outputs": [
    {
     "data": {
      "text/plain": [
       "(9336, 5000)"
      ]
     },
     "execution_count": 43,
     "metadata": {},
     "output_type": "execute_result"
    }
   ],
   "source": [
    "vector.shape"
   ]
  },
  {
   "cell_type": "code",
   "execution_count": 44,
   "id": "67edbeec",
   "metadata": {},
   "outputs": [
    {
     "data": {
      "text/plain": [
       "'zombi zombi'"
      ]
     },
     "execution_count": 44,
     "metadata": {},
     "output_type": "execute_result"
    }
   ],
   "source": [
    "stem(\"zombie zombi\")"
   ]
  },
  {
   "cell_type": "code",
   "execution_count": 45,
   "id": "a704e19a",
   "metadata": {},
   "outputs": [],
   "source": [
    "# new calculate cosing similarity \n",
    "from sklearn.metrics.pairwise import cosine_similarity\n",
    "similerity = cosine_similarity(vector)"
   ]
  },
  {
   "cell_type": "code",
   "execution_count": 46,
   "id": "dca30258",
   "metadata": {},
   "outputs": [
    {
     "data": {
      "text/plain": [
       "array([[1.        , 0.14089399, 0.08466675, ..., 0.22718473, 0.        ,\n",
       "        0.04233338],\n",
       "       [0.14089399, 1.        , 0.04622502, ..., 0.06201737, 0.04756515,\n",
       "        0.04622502],\n",
       "       [0.08466675, 0.04622502, 1.        , ..., 0.        , 0.0571662 ,\n",
       "        0.        ],\n",
       "       ...,\n",
       "       [0.22718473, 0.06201737, 0.        , ..., 1.        , 0.153393  ,\n",
       "        0.1490712 ],\n",
       "       [0.        , 0.04756515, 0.0571662 , ..., 0.153393  , 1.        ,\n",
       "        0.11433239],\n",
       "       [0.04233338, 0.04622502, 0.        , ..., 0.1490712 , 0.11433239,\n",
       "        1.        ]])"
      ]
     },
     "execution_count": 46,
     "metadata": {},
     "output_type": "execute_result"
    }
   ],
   "source": [
    "similerity"
   ]
  },
  {
   "cell_type": "code",
   "execution_count": 47,
   "id": "fcf50671",
   "metadata": {},
   "outputs": [],
   "source": [
    "# now function for fatch top five movie\n",
    "def fatch_movie(movie):\n",
    "    ans = []\n",
    "    ind = movie_new[movie_new[\"Title\"] == movie].index[0]\n",
    "    distance = vector[ind]\n",
    "    top_5_index = sorted(list(enumerate(distance)),key= (lambda x:x[1]),reverse=True)[1:6]\n",
    "\n",
    "    for i in top_5_index:\n",
    "        movies = (movie_new.iloc[i[0]].Title)\n",
    "        ans.append(movies)\n",
    "        print(movies)\n",
    "    return ans\n"
   ]
  },
  {
   "cell_type": "code",
   "execution_count": 48,
   "id": "3a4aecb3",
   "metadata": {},
   "outputs": [
    {
     "name": "stdout",
     "output_type": "stream",
     "text": [
      "Swamp Thing\n",
      "The Godfather\n",
      "Killers of the Flower Moon\n",
      "Bottoms\n",
      "Talk to Me\n"
     ]
    },
    {
     "data": {
      "text/plain": [
       "['Swamp Thing',\n",
       " 'The Godfather',\n",
       " 'Killers of the Flower Moon',\n",
       " 'Bottoms',\n",
       " 'Talk to Me']"
      ]
     },
     "execution_count": 48,
     "metadata": {},
     "output_type": "execute_result"
    }
   ],
   "source": [
    "fatch_movie(\"August\")"
   ]
  },
  {
   "cell_type": "code",
   "execution_count": 49,
   "id": "dc385de3",
   "metadata": {},
   "outputs": [],
   "source": [
    "import pickle\n",
    "pickle.dump(similerity, open(\"similarity.pkl\",\"wb\"))\n",
    "pickle.dump(movie_new,open(\"movies.pkl\",\"wb\"))\n",
    "pickle.dump(vector,open(\"vector.pkl\",\"wb\"))\n",
    "pickle.dump(top_100,open(\"top_100.pkl\",\"wb\"))\n"
   ]
  },
  {
   "cell_type": "code",
   "execution_count": 50,
   "id": "88580303",
   "metadata": {},
   "outputs": [
    {
     "data": {
      "text/plain": [
       "(9336, 7)"
      ]
     },
     "execution_count": 50,
     "metadata": {},
     "output_type": "execute_result"
    }
   ],
   "source": [
    "movie_new.shape"
   ]
  },
  {
   "cell_type": "code",
   "execution_count": 51,
   "id": "78e0884f",
   "metadata": {},
   "outputs": [
    {
     "data": {
      "text/plain": [
       "index                                                    1328\n",
       "Poster      https://m.media-amazon.com/images/M/MV5BNzM1OD...\n",
       "Title                            The School for Good and Evil\n",
       "Year                                                     2017\n",
       "Rating                                                    5.9\n",
       "Duration                                              02:27:0\n",
       "info        action, comedy, dramakit young, sophia ann car...\n",
       "Name: 1265, dtype: object"
      ]
     },
     "execution_count": 51,
     "metadata": {},
     "output_type": "execute_result"
    }
   ],
   "source": [
    "movie_new.iloc[1265]"
   ]
  },
  {
   "cell_type": "code",
   "execution_count": null,
   "id": "061f9808",
   "metadata": {},
   "outputs": [],
   "source": []
  }
 ],
 "metadata": {
  "kernelspec": {
   "display_name": "base",
   "language": "python",
   "name": "python3"
  },
  "language_info": {
   "codemirror_mode": {
    "name": "ipython",
    "version": 3
   },
   "file_extension": ".py",
   "mimetype": "text/x-python",
   "name": "python",
   "nbconvert_exporter": "python",
   "pygments_lexer": "ipython3",
   "version": "3.12.7"
  }
 },
 "nbformat": 4,
 "nbformat_minor": 5
}
